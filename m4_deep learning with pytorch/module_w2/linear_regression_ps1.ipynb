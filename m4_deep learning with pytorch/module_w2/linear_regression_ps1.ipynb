{
 "cells": [
  {
   "cell_type": "markdown",
   "metadata": {},
   "source": [
    "## Linear Regression: Practice Session 1"
   ]
  },
  {
   "cell_type": "code",
   "execution_count": 2,
   "metadata": {},
   "outputs": [],
   "source": [
    "import torch \n",
    "import numpy as np"
   ]
  },
  {
   "cell_type": "markdown",
   "metadata": {},
   "source": [
    "**Practice Session 1:**\n",
    "\n",
    "+ Building linear regression for 1D\n",
    "+ Building linear regression for 2D\n",
    "+ Apply gradient descent"
   ]
  },
  {
   "cell_type": "markdown",
   "metadata": {},
   "source": [
    "## Linear Regression 1D"
   ]
  },
  {
   "cell_type": "markdown",
   "metadata": {},
   "source": [
    "### Linear Regression"
   ]
  },
  {
   "cell_type": "code",
   "execution_count": 3,
   "metadata": {},
   "outputs": [
    {
     "name": "stdout",
     "output_type": "stream",
     "text": [
      "Predicted value of x: -11.0\n"
     ]
    }
   ],
   "source": [
    "# construct a linear regression model \n",
    "w = torch.tensor(3.0, requires_grad=True)\n",
    "b = torch.tensor(4.0, requires_grad=True)\n",
    "\n",
    "def forward(x, w, b):\n",
    "  ypred = x*w + b\n",
    "  return ypred\n",
    "\n",
    "# compute the prediction for given value of x\n",
    "x = torch.tensor(-5.0, requires_grad=True)\n",
    "ypred = forward(x, w, b)\n",
    "print(f\"Predicted value of x: {ypred}\")"
   ]
  },
  {
   "cell_type": "code",
   "execution_count": 10,
   "metadata": {},
   "outputs": [
    {
     "name": "stdout",
     "output_type": "stream",
     "text": [
      "Predicted Value 0: 10.0\n",
      "Predicted Value 1: 1.0\n",
      "Predicted Value 2: 19.0\n",
      "Predicted Value 3: 10.0\n",
      "Predicted Value 4: 22.0\n",
      "Epochs: [0, 1, 2, 3, 4]\n",
      "Y predictions: [tensor(10., grad_fn=<AddBackward0>), tensor(1., grad_fn=<AddBackward0>), tensor(19., grad_fn=<AddBackward0>), tensor(10., grad_fn=<AddBackward0>), tensor(22., grad_fn=<AddBackward0>)]\n"
     ]
    }
   ],
   "source": [
    "# compute 5 list of predicted values\n",
    "input_x = np.float32([2,-1,5,2,6])\n",
    "input_vals = torch.tensor(input_x, requires_grad=True)\n",
    "predicted_vals = []\n",
    "\n",
    "for i, x in enumerate(input_vals): \n",
    "  ypred = forward(x, w, b)\n",
    "  predicted_vals.append((i, ypred))\n",
    "  print(f\"Predicted Value {i}: {ypred}\")\n",
    "\n",
    "epochs = [i[0] for i in predicted_vals]\n",
    "ypreds = [i[1] for i in predicted_vals]\n",
    "print(f\"Epochs: {epochs}\")\n",
    "print(f\"Y predictions: {ypreds}\")"
   ]
  },
  {
   "cell_type": "code",
   "execution_count": 9,
   "metadata": {},
   "outputs": [
    {
     "data": {
      "text/plain": [
       "[0, 1, 2, 3, 4]"
      ]
     },
     "execution_count": 9,
     "metadata": {},
     "output_type": "execute_result"
    }
   ],
   "source": [
    "predicted_vals\n",
    "epochs"
   ]
  },
  {
   "cell_type": "markdown",
   "metadata": {},
   "source": [
    "### Class Linear"
   ]
  },
  {
   "cell_type": "code",
   "execution_count": 24,
   "metadata": {},
   "outputs": [],
   "source": [
    "from torch.nn import Linear\n",
    "import torch.nn as nn "
   ]
  },
  {
   "cell_type": "code",
   "execution_count": 16,
   "metadata": {},
   "outputs": [
    {
     "data": {
      "text/plain": [
       "<torch._C.Generator at 0x1a325565790>"
      ]
     },
     "execution_count": 16,
     "metadata": {},
     "output_type": "execute_result"
    }
   ],
   "source": [
    "torch.manual_seed(1)"
   ]
  },
  {
   "cell_type": "code",
   "execution_count": 17,
   "metadata": {},
   "outputs": [
    {
     "name": "stdout",
     "output_type": "stream",
     "text": [
      "y predicted value: tensor([-1.4719], grad_fn=<ViewBackward0>)\n"
     ]
    }
   ],
   "source": [
    "# create 1D x value for y prediction computation\n",
    "x = torch.tensor([-2.0], requires_grad=True)\n",
    "\n",
    "# build a linear regression model from pytorch\n",
    "model = Linear(in_features=1, out_features=1)\n",
    "y = model(x)\n",
    "print(f\"y predicted value: {y}\")"
   ]
  },
  {
   "cell_type": "code",
   "execution_count": 21,
   "metadata": {},
   "outputs": [
    {
     "name": "stdout",
     "output_type": "stream",
     "text": [
      "parameter w: Parameter containing:\n",
      "tensor([[0.5153]], requires_grad=True)\n",
      "parameter b: Parameter containing:\n",
      "tensor([-0.4414], requires_grad=True)\n"
     ]
    }
   ],
   "source": [
    "w, b = list(model.parameters())\n",
    "print(f\"parameter w: {w}\")\n",
    "print(f\"parameter b: {b}\")"
   ]
  },
  {
   "cell_type": "code",
   "execution_count": 25,
   "metadata": {},
   "outputs": [],
   "source": [
    "class LRmodel(nn.Module):\n",
    "  def __init__(self, in_size, out_size): \n",
    "    super(LRmodel, self).__init__()\n",
    "    self.linear = nn.Linear(in_size, out_size)\n",
    "\n",
    "  def forward(self, x): \n",
    "    output = self.linear(x)\n",
    "    return output"
   ]
  },
  {
   "cell_type": "code",
   "execution_count": 29,
   "metadata": {},
   "outputs": [],
   "source": [
    "# x1 =  torch.tensor([5.0])\n",
    "# x2 = torch.tensor([-3.0])\n",
    "\n",
    "lin_model = LRmodel(in_size=1, out_size=1)\n",
    "# lin_model.forward(-2.0)"
   ]
  },
  {
   "cell_type": "code",
   "execution_count": 35,
   "metadata": {},
   "outputs": [
    {
     "data": {
      "text/plain": [
       "('w: tensor([[0.0479]])', 'b: tensor([0.5961])')"
      ]
     },
     "execution_count": 35,
     "metadata": {},
     "output_type": "execute_result"
    }
   ],
   "source": [
    "w = lin_model.state_dict()[\"linear.weight\"]\n",
    "b = lin_model.state_dict()[\"linear.bias\"]\n",
    "(f\"w: {w}\", f\"b: {b}\")"
   ]
  },
  {
   "cell_type": "code",
   "execution_count": 39,
   "metadata": {},
   "outputs": [
    {
     "data": {
      "text/plain": [
       "tensor([[0.0125]])"
      ]
     },
     "execution_count": 39,
     "metadata": {},
     "output_type": "execute_result"
    }
   ],
   "source": [
    "lin_model.state_dict()[\"linear.weight\"].data[0] = torch.tensor([[0.01254]])\n",
    "w"
   ]
  },
  {
   "cell_type": "code",
   "execution_count": 42,
   "metadata": {},
   "outputs": [
    {
     "data": {
      "text/plain": [
       "[Parameter containing:\n",
       " tensor([[0.0125]], requires_grad=True),\n",
       " Parameter containing:\n",
       " tensor([0.5961], requires_grad=True)]"
      ]
     },
     "execution_count": 42,
     "metadata": {},
     "output_type": "execute_result"
    }
   ],
   "source": [
    "list(lin_model.parameters())"
   ]
  },
  {
   "cell_type": "markdown",
   "metadata": {},
   "source": [
    "## Linear Regression: 2D"
   ]
  },
  {
   "cell_type": "code",
   "execution_count": 46,
   "metadata": {},
   "outputs": [
    {
     "data": {
      "text/plain": [
       "tensor([[1., 2., 3., 5.],\n",
       "        [5., 2., 1., 4.]], dtype=torch.float64, requires_grad=True)"
      ]
     },
     "execution_count": 46,
     "metadata": {},
     "output_type": "execute_result"
    }
   ],
   "source": [
    "# create 2d constants to compute linear regression\n",
    "x1 = np.array([[1,2,3,5],[5,2,1,4]], dtype=float)\n",
    "x2 = np.array([[1,5,2,4],[5,2,1,7]], dtype=float)\n",
    "xvector1 = torch.tensor(x1, requires_grad=True)\n",
    "xvector2 = torch.tensor(x2, requires_grad=True)\n",
    "\n"
   ]
  },
  {
   "cell_type": "code",
   "execution_count": null,
   "metadata": {},
   "outputs": [],
   "source": []
  }
 ],
 "metadata": {
  "kernelspec": {
   "display_name": "Python 3",
   "language": "python",
   "name": "python3"
  },
  "language_info": {
   "codemirror_mode": {
    "name": "ipython",
    "version": 3
   },
   "file_extension": ".py",
   "mimetype": "text/x-python",
   "name": "python",
   "nbconvert_exporter": "python",
   "pygments_lexer": "ipython3",
   "version": "3.12.4"
  }
 },
 "nbformat": 4,
 "nbformat_minor": 2
}
